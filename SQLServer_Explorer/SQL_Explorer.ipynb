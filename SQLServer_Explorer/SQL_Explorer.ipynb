{
 "cells": [
  {
   "cell_type": "code",
   "execution_count": 1,
   "id": "9ff170aa",
   "metadata": {},
   "outputs": [],
   "source": [
    "from run_sql import run_sql_query\n"
   ]
  },
  {
   "cell_type": "code",
   "execution_count": 2,
   "id": "e2d9fdab",
   "metadata": {},
   "outputs": [
    {
     "name": "stdout",
     "output_type": "stream",
     "text": [
      "[('master', 1, None, b'\\x01', datetime.datetime(2003, 4, 8, 9, 13, 36, 390000), 160, 'SQL_Latin1_General_CP1_CI_AS', 0, 'MULTI_USER', False, False, False, 0, 'ONLINE', False, False, False, 1, 'ON', False, 3, 'SIMPLE', 2, 'CHECKSUM', True, False, True, False, False, False, False, False, False, False, False, False, False, False, False, False, False, True, False, False, False, False, False, False, False, False, '00000000-0000-0000-0000-000000000000', False, 0, 'NOTHING', False, False, False, False, None, None, None, None, None, None, None, None, None, None, 0, 'NONE', 0, 0, 'DISABLED', False, False, False, True, True, 0, 'DATABASE_DEFAULT', 'master', False, False, False, False, True, False, False, False, False, False, 0, 'UNSUPPORTED', 0, 'UNSUPPORTED', False, False, False), ('tempdb', 2, None, b'\\x01', datetime.datetime(2025, 7, 12, 2, 13, 26, 463000), 170, 'SQL_Latin1_General_CP1_CI_AS', 0, 'MULTI_USER', False, False, False, 0, 'ONLINE', False, False, False, 0, 'OFF', False, 3, 'SIMPLE', 2, 'CHECKSUM', True, False, True, False, False, False, False, False, False, False, False, False, False, False, False, False, False, True, False, False, False, False, False, False, False, False, '0E7FA998-68E7-4C88-8637-96D75972D644', True, 0, 'NOTHING', False, False, False, False, None, None, None, None, None, None, None, None, None, None, 0, 'NONE', 60, 0, 'DISABLED', False, False, False, False, True, 0, 'DATABASE_DEFAULT', 'tempdb', False, False, False, False, True, False, False, False, False, False, 0, 'UNSUPPORTED', 0, 'UNSUPPORTED', False, False, False), ('model', 3, None, b'\\x01', datetime.datetime(2003, 4, 8, 9, 13, 36, 390000), 170, 'SQL_Latin1_General_CP1_CI_AS', 0, 'MULTI_USER', False, False, False, 0, 'ONLINE', False, False, False, 0, 'OFF', False, 1, 'FULL', 2, 'CHECKSUM', True, False, True, False, False, False, False, False, False, False, False, False, False, False, False, False, False, False, False, False, True, False, False, False, False, False, '00000000-0000-0000-0000-000000000000', False, 0, 'NOTHING', False, False, False, False, None, None, None, None, None, None, None, None, None, None, 0, 'NONE', 60, 0, 'DISABLED', False, False, False, True, True, 0, 'DATABASE_DEFAULT', 'model', False, False, False, False, True, False, False, False, False, False, 0, 'UNSUPPORTED', 0, 'UNSUPPORTED', False, False, False), ('msdb', 4, None, b'\\x01', datetime.datetime(2025, 5, 8, 19, 58, 22, 240000), 160, 'SQL_Latin1_General_CP1_CI_AS', 0, 'MULTI_USER', False, False, False, 0, 'ONLINE', False, False, False, 1, 'ON', False, 3, 'SIMPLE', 2, 'CHECKSUM', True, False, True, False, False, False, False, False, False, False, False, False, False, False, False, True, True, True, False, False, False, False, False, False, False, False, '2F4A520C-D034-4D9C-A9E2-CA043B6673A7', True, 13, 'OLDEST_PAGE', False, False, False, False, None, None, None, None, None, None, None, None, None, None, 0, 'NONE', 60, 0, 'DISABLED', False, False, False, True, True, 0, 'DATABASE_DEFAULT', 'msdb', False, False, False, False, True, False, False, False, False, False, 0, 'UNSUPPORTED', 0, 'UNSUPPORTED', False, False, False), ('AdventureWorks2022', 5, None, b'\\x01', datetime.datetime(2025, 6, 12, 21, 18, 21, 263000), 160, 'SQL_Latin1_General_CP1_CI_AS', 0, 'MULTI_USER', False, False, False, 0, 'ONLINE', False, False, False, 0, 'OFF', True, 3, 'SIMPLE', 2, 'CHECKSUM', True, False, True, False, False, True, True, True, True, True, False, True, False, False, False, True, False, False, False, False, False, False, False, False, False, False, '104BD1E5-5729-481C-818B-04C0E3216E68', False, 0, 'NOTHING', False, False, False, False, None, None, None, None, None, None, None, None, None, None, 0, 'NONE', 0, 0, 'DISABLED', False, False, False, False, False, 0, 'DATABASE_DEFAULT', 'AdventureWorks2022', False, False, False, False, True, False, False, False, False, False, 0, 'UNSUPPORTED', 0, 'UNSUPPORTED', False, False, False), ('AdventureWorksDW2022', 6, None, b'\\x01', datetime.datetime(2025, 6, 12, 21, 18, 36, 793000), 160, 'SQL_Latin1_General_CP1_CI_AS', 0, 'MULTI_USER', False, False, False, 0, 'ONLINE', False, False, False, 0, 'OFF', False, 3, 'SIMPLE', 2, 'CHECKSUM', True, False, True, False, False, True, True, True, True, True, False, True, False, False, False, True, False, False, False, False, False, False, False, False, False, False, '4FB77E7C-9C0B-43FD-A1E2-23E1B15F3285', False, 0, 'NOTHING', False, False, False, False, None, None, None, None, None, None, None, None, None, None, 0, 'NONE', 60, 0, 'DISABLED', False, False, False, False, False, 0, 'DATABASE_DEFAULT', 'AdventureWorksDW2022', False, False, False, False, True, False, False, False, False, False, 0, 'UNSUPPORTED', 0, 'UNSUPPORTED', False, False, False)]\n"
     ]
    }
   ],
   "source": [
    "query = \"SELECT * FROM sys.databases\"\n",
    "results = run_sql_query(query)\n",
    "print(results)"
   ]
  }
 ],
 "metadata": {
  "kernelspec": {
   "display_name": "Python 3",
   "language": "python",
   "name": "python3"
  },
  "language_info": {
   "codemirror_mode": {
    "name": "ipython",
    "version": 3
   },
   "file_extension": ".py",
   "mimetype": "text/x-python",
   "name": "python",
   "nbconvert_exporter": "python",
   "pygments_lexer": "ipython3",
   "version": "3.13.5"
  }
 },
 "nbformat": 4,
 "nbformat_minor": 5
}
